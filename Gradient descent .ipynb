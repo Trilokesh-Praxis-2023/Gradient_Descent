{
 "cells": [
  {
   "cell_type": "code",
   "execution_count": null,
   "id": "afbbcb3d",
   "metadata": {},
   "outputs": [],
   "source": []
  },
  {
   "cell_type": "code",
   "execution_count": 1,
   "id": "6345d048",
   "metadata": {},
   "outputs": [],
   "source": [
    "import numpy as np\n",
    "import seaborn as sns \n",
    "from sympy import *"
   ]
  },
  {
   "cell_type": "markdown",
   "id": "f8b21f62",
   "metadata": {},
   "source": [
    "a= symbols('a')\n",
    "solveset(2 - 10*a+6*a**2,a)\n"
   ]
  },
  {
   "cell_type": "code",
   "execution_count": 3,
   "id": "6e51b166",
   "metadata": {},
   "outputs": [
    {
     "data": {
      "text/latex": [
       "$\\displaystyle \\left\\{\\frac{5}{6} - \\frac{\\sqrt{13}}{6}, \\frac{\\sqrt{13}}{6} + \\frac{5}{6}\\right\\}$"
      ],
      "text/plain": [
       "{5/6 - sqrt(13)/6, sqrt(13)/6 + 5/6}"
      ]
     },
     "execution_count": 3,
     "metadata": {},
     "output_type": "execute_result"
    }
   ],
   "source": [
    "a= symbols('a')\n",
    "solveset(2 - 10*a+6*a**2,a)\n"
   ]
  },
  {
   "cell_type": "code",
   "execution_count": 4,
   "id": "e4a8fe42",
   "metadata": {},
   "outputs": [
    {
     "data": {
      "text/plain": [
       "<Axes: >"
      ]
     },
     "execution_count": 4,
     "metadata": {},
     "output_type": "execute_result"
    },
    {
     "data": {
      "image/png": "[encoded data removed]",
      "text/plain": [
       "<Figure size 640x480 with 1 Axes>"
      ]
     },
     "metadata": {},
     "output_type": "display_data"
    }
   ],
   "source": [
    "x= np.random.uniform(-2,2,3000)\n",
    "y=1+ 2*x- 5*x**2 + 2*x**3\n",
    "sns.lineplot(x=x,y=y)"
   ]
  },
  {
   "cell_type": "code",
   "execution_count": 11,
   "id": "bda747bf",
   "metadata": {},
   "outputs": [
    {
     "data": {
      "text/html": [
       "<img src=\"https://miro.medium.com/v2/resize:fit:4800/0*00BrbBeDrFOjocpK.\" width=\"600\" height=\"300\"/>"
      ],
      "text/plain": [
       "<IPython.core.display.Image object>"
      ]
     },
     "execution_count": 11,
     "metadata": {},
     "output_type": "execute_result"
    }
   ],
   "source": [
    "# import image module\n",
    "from IPython.display import Image\n",
    "  \n",
    "# get the image\n",
    "Image(url=\"https://miro.medium.com/v2/resize:fit:4800/0*00BrbBeDrFOjocpK.\", width=600, height=300)\n"
   ]
  },
  {
   "cell_type": "code",
   "execution_count": 13,
   "id": "745aba1a",
   "metadata": {},
   "outputs": [
    {
     "name": "stdout",
     "output_type": "stream",
     "text": [
      "-0.8200000000000001\n",
      "-0.677656\n",
      "-0.56233734073984\n",
      "-0.4671302095784347\n",
      "-0.3873245506585437\n",
      "-0.31959087714011875\n",
      "-0.26150348970103543\n",
      "-0.2112500962233827\n",
      "-0.1674474904117811\n",
      "-0.1290204216478908\n",
      "-0.09511960333096975\n",
      "-0.06506477866160232\n",
      "-0.038304295270105086\n",
      "-0.01438583260092621\n",
      "0.007065167789943726\n",
      "0.02636164600670336\n",
      "0.04376717758884399\n",
      "0.059505393780005196\n",
      "0.07376730791533949\n",
      "0.08671707406683013\n",
      "0.09849655771622984\n",
      "0.10922899625752365\n",
      "0.11902195504917686\n",
      "0.12796973309128287\n",
      "0.13615533493740184\n",
      "0.1436520979575766\n",
      "0.15052504367667574\n",
      "0.15683200663544009\n",
      "0.162624582670214\n",
      "0.1679489296965123\n",
      "0.1728464473060333\n",
      "0.17735435623620902\n",
      "0.18150619467314572\n",
      "0.1853322451281147\n",
      "0.18885990308035688\n",
      "0.1921139965518125\n",
      "0.19511706415689783\n",
      "0.19788959786472046\n",
      "0.20045025565483207\n",
      "0.20281604838887413\n",
      "0.2050025045190314\n",
      "0.20702381567867278\n",
      "0.20889296572629493\n",
      "0.21062184542146106\n",
      "0.21222135458543948\n",
      "0.21370149332742025\n",
      "0.21507144368970038\n",
      "0.21633964287417667\n",
      "0.2175138490514946\n",
      "0.21860120061809693\n",
      "0.21960826965098765\n",
      "0.22054111021183492\n",
      "0.22140530206825956\n",
      "0.22220599032846985\n",
      "0.22294792142389425\n",
      "0.22363547582153892\n",
      "0.2242726978021406\n",
      "0.22486332260069355\n",
      "0.2254108011716856\n",
      "0.22591832281160873\n",
      "0.22638883584536848\n",
      "0.2268250665605569\n",
      "0.22722953655371328\n",
      "0.22760457863528688\n",
      "0.227952351424703\n",
      "0.22827485275343576\n",
      "0.22857393198206835\n",
      "0.2288513013267661\n",
      "0.22910854628122673\n",
      "0.22934713521184988\n",
      "0.22956842819645784\n",
      "0.2297736851702876\n",
      "0.2299640734370629\n",
      "0.23014067459766263\n",
      "0.2303044909441524\n",
      "0.23045645136267986\n",
      "0.23059741678489262\n",
      "0.2307281852240753\n",
      "0.23084949642907548\n",
      "0.2309620361862614\n",
      "0.2310664402971935\n",
      "0.23116329825737114\n",
      "0.2312531566593076\n",
      "0.2313365223412705\n",
      "0.23141386530128064\n",
      "0.23148562139437334\n",
      "0.23155219482967634\n",
      "0.23161396048253513\n",
      "0.23167126603570593\n",
      "0.23172443396253053\n",
      "0.2317737633639928\n",
      "0.23181953167062802\n",
      "0.23186199621940456\n",
      "0.23190139571491494\n",
      "0.23193795158349498\n",
      "0.23197186922823035\n",
      "0.23200333919220167\n",
      "0.23203253823676143\n",
      "0.23205963034112093\n",
      "0.2320847676290523\n",
      "Local Maxima 0.2320847676290523\n"
     ]
    }
   ],
   "source": [
    "#In machine learning and statistics, the learning rate is a \n",
    "#tuning parameter in an optimization algorithm that determines the step size \n",
    "#at each iteration while moving toward a minimum of a loss function. \n",
    "init = -1\n",
    "for r in range(100):\n",
    "    f = 2-10*init+6*init**2\n",
    "    init+= 0.01*f # 0.01 is the learning rate \n",
    "    print(init)\n",
    "print(\"Local Maxima\",init)"
   ]
  },
  {
   "cell_type": "code",
   "execution_count": 21,
   "id": "688efbd8",
   "metadata": {},
   "outputs": [
    {
     "name": "stdout",
     "output_type": "stream",
     "text": [
      "1.2\n",
      "1.3359999999999999\n",
      "1.4010624\n",
      "1.424339290783744\n",
      "1.4314331324052845\n",
      "1.433465777282006\n",
      "1.4340370737807884\n",
      "1.434196750174917\n",
      "1.434241309422458\n",
      "1.434253738652608\n",
      "1.4342572052018259\n",
      "1.4342581719996403\n",
      "1.4342584416306308\n",
      "1.4342585168280262\n",
      "1.4342585377998147\n",
      "1.434258543648632\n",
      "1.434258545279807\n",
      "1.4342585457347252\n",
      "1.4342585458615968\n",
      "1.4342585458969803\n",
      "1.4342585459068486\n",
      "1.4342585459096007\n",
      "1.4342585459103683\n",
      "1.4342585459105819\n",
      "1.4342585459106418\n",
      "1.4342585459106583\n",
      "1.4342585459106632\n",
      "1.4342585459106645\n",
      "1.4342585459106647\n",
      "1.4342585459106652\n",
      "1.434258545910665\n",
      "1.4342585459106647\n",
      "1.4342585459106652\n",
      "1.434258545910665\n",
      "1.4342585459106647\n",
      "1.4342585459106652\n",
      "1.434258545910665\n",
      "1.4342585459106647\n",
      "1.4342585459106652\n",
      "1.434258545910665\n",
      "1.4342585459106647\n",
      "1.4342585459106652\n",
      "1.434258545910665\n",
      "1.4342585459106647\n",
      "1.4342585459106652\n",
      "1.434258545910665\n",
      "1.4342585459106647\n",
      "1.4342585459106652\n",
      "1.434258545910665\n",
      "1.4342585459106647\n",
      "Local Minima 1.4342585459106647\n"
     ]
    }
   ],
   "source": [
    "\n",
    "init = 1\n",
    "for r in range(50):\n",
    "    f = 2-10*init+6*init**2\n",
    "    init-= 0.1*f # 0.01 is the learning rate \n",
    "    print(init)\n",
    "print(\"Local Minima\",init)"
   ]
  },
  {
   "cell_type": "code",
   "execution_count": null,
   "id": "5fecf59d",
   "metadata": {},
   "outputs": [],
   "source": []
  }
 ],
 "metadata": {
  "kernelspec": {
   "display_name": "Python 3 (ipykernel)",
   "language": "python",
   "name": "python3"
  },
  "language_info": {
   "codemirror_mode": {
    "name": "ipython",
    "version": 3
   },
   "file_extension": ".py",
   "mimetype": "text/x-python",
   "name": "python",
   "nbconvert_exporter": "python",
   "pygments_lexer": "ipython3",
   "version": "3.10.12"
  }
 },
 "nbformat": 4,
 "nbformat_minor": 5
}
